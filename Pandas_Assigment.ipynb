{
  "nbformat": 4,
  "nbformat_minor": 0,
  "metadata": {
    "colab": {
      "name": "Pandas Assigment.ipynb",
      "provenance": [],
      "collapsed_sections": [],
      "mount_file_id": "1PulH7QnIADxgSuo1HNY1ziaVGO3M3RWp",
      "authorship_tag": "ABX9TyP42JOH9uav9Bb+uP/rOcmy",
      "include_colab_link": true
    },
    "kernelspec": {
      "display_name": "Python 3",
      "name": "python3"
    },
    "language_info": {
      "name": "python"
    }
  },
  "cells": [
    {
      "cell_type": "markdown",
      "metadata": {
        "id": "view-in-github",
        "colab_type": "text"
      },
      "source": [
        "<a href=\"https://colab.research.google.com/github/subhan215/pandas-Assignment/blob/main/Pandas_Assigment.ipynb\" target=\"_parent\"><img src=\"https://colab.research.google.com/assets/colab-badge.svg\" alt=\"Open In Colab\"/></a>"
      ]
    },
    {
      "cell_type": "code",
      "metadata": {
        "id": "dY-Gm6Z4GvHG"
      },
      "source": [
        "import pandas as pd\n",
        "import numpy as np\n",
        "import matplotlib.pyplot as plt\n",
        "import glob\n"
      ],
      "execution_count": null,
      "outputs": []
    },
    {
      "cell_type": "code",
      "metadata": {
        "colab": {
          "base_uri": "https://localhost:8080/"
        },
        "id": "yjwfHEPYG9i0",
        "outputId": "6501cd2b-0fb8-4868-b44c-61bb0883e2cb"
      },
      "source": [
        "from google.colab import drive\n",
        "drive.mount('./content')\n"
      ],
      "execution_count": null,
      "outputs": [
        {
          "output_type": "stream",
          "text": [
            "Mounted at ./content\n"
          ],
          "name": "stdout"
        }
      ]
    },
    {
      "cell_type": "code",
      "metadata": {
        "id": "dDl1y7FjHpyo"
      },
      "source": [
        "import os\n",
        "os.chdir('./content/MyDrive/Assignment')"
      ],
      "execution_count": null,
      "outputs": []
    },
    {
      "cell_type": "code",
      "metadata": {
        "id": "nbkLWbpaV_mc"
      },
      "source": [
        "files = glob.glob('states*.csv')\n",
        "data_list = [pd.read_csv(file) for file in files] \n",
        "us_census = pd.concat(data_list)"
      ],
      "execution_count": null,
      "outputs": []
    },
    {
      "cell_type": "code",
      "metadata": {
        "colab": {
          "base_uri": "https://localhost:8080/"
        },
        "id": "APxH8GgaWUgY",
        "outputId": "f88073a5-3f82-47cd-dc4b-fda17559c4ff"
      },
      "source": [
        "print(us_census.columns)"
      ],
      "execution_count": null,
      "outputs": [
        {
          "output_type": "stream",
          "text": [
            "Index(['Unnamed: 0', 'State', 'TotalPop', 'Hispanic', 'White', 'Black',\n",
            "       'Native', 'Asian', 'Pacific', 'Income', 'GenderPop'],\n",
            "      dtype='object')\n"
          ],
          "name": "stdout"
        }
      ]
    },
    {
      "cell_type": "code",
      "metadata": {
        "id": "lLXNaPg3WXbf"
      },
      "source": [
        "us_census['Income'] = us_census.Income.str[1:]\n",
        "us_census['Income'] = pd.to_numeric(us_census.Income)\n"
      ],
      "execution_count": null,
      "outputs": []
    },
    {
      "cell_type": "code",
      "metadata": {
        "id": "pbtT2nofWwbZ"
      },
      "source": [
        "gender_split = us_census.GenderPop.str.split('_')\n",
        "us_census['Men'] = gender_split.str.get(0)\n",
        "us_census['Women'] = gender_split.str.get(1)"
      ],
      "execution_count": null,
      "outputs": []
    },
    {
      "cell_type": "code",
      "metadata": {
        "id": "9T4AGx1RXHxv"
      },
      "source": [
        "# Replacing M and F characters\n",
        "\n",
        "us_census['Men'] = us_census.Men.str[:-1]\n",
        "us_census['Women'] = us_census.Women.str[:-1]"
      ],
      "execution_count": null,
      "outputs": []
    },
    {
      "cell_type": "code",
      "metadata": {
        "id": "gncSqC-3XXzP"
      },
      "source": [
        "# converting men and women into numeric types\n",
        "\n",
        "us_census['Men'] = pd.to_numeric(us_census.Men)\n",
        "us_census['Women'] = pd.to_numeric(us_census.Women)"
      ],
      "execution_count": null,
      "outputs": []
    },
    {
      "cell_type": "code",
      "metadata": {
        "id": "LmASA0TQX6Xn"
      },
      "source": [
        "us_census = us_census.fillna(value={'Women': us_census.TotalPop - us_census.Men})"
      ],
      "execution_count": null,
      "outputs": []
    },
    {
      "cell_type": "code",
      "metadata": {
        "colab": {
          "base_uri": "https://localhost:8080/"
        },
        "id": "-7URU_akYHRg",
        "outputId": "263fca87-5963-4036-838a-cdfaae867bfa"
      },
      "source": [
        "duplicates = us_census.duplicated(subset=['State'])\n",
        "print(duplicates.value_counts())\n"
      ],
      "execution_count": null,
      "outputs": [
        {
          "output_type": "stream",
          "text": [
            "False    51\n",
            "True      9\n",
            "dtype: int64\n"
          ],
          "name": "stdout"
        }
      ]
    },
    {
      "cell_type": "code",
      "metadata": {
        "id": "vzJRtpoiYXq-"
      },
      "source": [
        "us_census = us_census.drop_duplicates()"
      ],
      "execution_count": null,
      "outputs": []
    },
    {
      "cell_type": "code",
      "metadata": {
        "colab": {
          "base_uri": "https://localhost:8080/",
          "height": 531
        },
        "id": "vCdjEWMXYeVX",
        "outputId": "16c44e8a-7552-4c4f-f9ce-340ead8db957"
      },
      "source": [
        "plt.scatter(us_census['Women'],\n",
        "            us_census['Income'])\n",
        "plt.xlabel('Women')\n",
        "plt.ylabel('Income')\n",
        "plt.show()\n",
        "plt.cla()"
      ],
      "execution_count": null,
      "outputs": [
        {
          "output_type": "display_data",
          "data": {
            "image/png": "[encoded data removed]",
            "text/plain": [
              "<Figure size 432x288 with 1 Axes>"
            ]
          },
          "metadata": {
            "tags": [],
            "needs_background": "light"
          }
        },
        {
          "output_type": "display_data",
          "data": {
            "image/png": "[encoded data removed]",
            "text/plain": [
              "<Figure size 432x288 with 1 Axes>"
            ]
          },
          "metadata": {
            "tags": [],
            "needs_background": "light"
          }
        }
      ]
    },
    {
      "cell_type": "code",
      "metadata": {
        "id": "wcK5--KOaYaB"
      },
      "source": [
        "us_census['Hispanic'] = us_census.Hispanic.str[:-1]\n",
        "us_census['Hispanic'] = pd.to_numeric(us_census.Hispanic)\n",
        "\n",
        "us_census['White'] = us_census.White.str[:-1]\n",
        "us_census['White'] = pd.to_numeric(us_census.White)\n",
        "\n",
        "us_census['Black'] = us_census.Black.str[:-1]\n",
        "us_census['Black'] = pd.to_numeric(us_census.Black)\n",
        "\n",
        "us_census['Native'] = us_census.Native.str[:-1]\n",
        "us_census['Native'] = pd.to_numeric(us_census.Native)\n",
        "\n",
        "us_census['Asian'] = us_census.Asian.str[:-1]\n",
        "us_census['Asian'] = pd.to_numeric(us_census.Asian)\n",
        "\n",
        "us_census['Pacific'] = us_census.Pacific.str[:-1]\n",
        "us_census['Pacific'] = pd.to_numeric(us_census.Pacific)"
      ],
      "execution_count": null,
      "outputs": []
    },
    {
      "cell_type": "code",
      "metadata": {
        "id": "Hh7I3dR8Yxis"
      },
      "source": [
        "us_census = us_census.fillna(value={'Hispanic': us_census.Hispanic.mean(),\n",
        "                                    'White': us_census.White.mean(),\n",
        "                                    'Black': us_census.Black.mean(),\n",
        "                                    'Native': us_census.Native.mean(),\n",
        "                                    'Asian': us_census.Asian.mean(),\n",
        "                                    'Pacific': us_census.Pacific.mean()})"
      ],
      "execution_count": null,
      "outputs": []
    },
    {
      "cell_type": "code",
      "metadata": {
        "colab": {
          "base_uri": "https://localhost:8080/",
          "height": 533
        },
        "id": "4r3ylLDppUan",
        "outputId": "e7faa3dc-fdcc-4a6a-d302-8fe198b7f718"
      },
      "source": [
        "plt.hist(us_census['Hispanic'])\n",
        "plt.title('Hispanic')\n",
        "plt.show()\n",
        "plt.cla()\n"
      ],
      "execution_count": null,
      "outputs": [
        {
          "output_type": "display_data",
          "data": {
            "image/png": "[encoded data removed]",
            "text/plain": [
              "<Figure size 432x288 with 1 Axes>"
            ]
          },
          "metadata": {
            "tags": [],
            "needs_background": "light"
          }
        },
        {
          "output_type": "display_data",
          "data": {
            "image/png": "[encoded data removed]",
            "text/plain": [
              "<Figure size 432x288 with 1 Axes>"
            ]
          },
          "metadata": {
            "tags": [],
            "needs_background": "light"
          }
        }
      ]
    },
    {
      "cell_type": "code",
      "metadata": {
        "colab": {
          "base_uri": "https://localhost:8080/",
          "height": 533
        },
        "id": "hFx917tXphZU",
        "outputId": "188df245-acb8-412c-e08d-00c3f2831735"
      },
      "source": [
        "plt.hist(us_census['White'])\n",
        "plt.title('White')\n",
        "plt.show()\n",
        "plt.cla()"
      ],
      "execution_count": null,
      "outputs": [
        {
          "output_type": "display_data",
          "data": {
            "image/png": "[encoded data removed]",
            "text/plain": [
              "<Figure size 432x288 with 1 Axes>"
            ]
          },
          "metadata": {
            "tags": [],
            "needs_background": "light"
          }
        },
        {
          "output_type": "display_data",
          "data": {
            "image/png": "[encoded data removed]",
            "text/plain": [
              "<Figure size 432x288 with 1 Axes>"
            ]
          },
          "metadata": {
            "tags": [],
            "needs_background": "light"
          }
        }
      ]
    },
    {
      "cell_type": "code",
      "metadata": {
        "colab": {
          "base_uri": "https://localhost:8080/",
          "height": 533
        },
        "id": "cFQKEWUcpt1n",
        "outputId": "4d650a5e-fb0a-467f-9e2c-0edca4ffd67e"
      },
      "source": [
        "plt.hist(us_census['Black'])\n",
        "plt.title('Black')\n",
        "plt.show()\n",
        "plt.cla()"
      ],
      "execution_count": null,
      "outputs": [
        {
          "output_type": "display_data",
          "data": {
            "image/png": "[encoded data removed]",
            "text/plain": [
              "<Figure size 432x288 with 1 Axes>"
            ]
          },
          "metadata": {
            "tags": [],
            "needs_background": "light"
          }
        },
        {
          "output_type": "display_data",
          "data": {
            "image/png": "[encoded data removed]",
            "text/plain": [
              "<Figure size 432x288 with 1 Axes>"
            ]
          },
          "metadata": {
            "tags": [],
            "needs_background": "light"
          }
        }
      ]
    },
    {
      "cell_type": "code",
      "metadata": {
        "colab": {
          "base_uri": "https://localhost:8080/",
          "height": 533
        },
        "id": "2qlzWtYOp42h",
        "outputId": "730e351c-221b-4ede-fe4b-4d85d325bb1d"
      },
      "source": [
        "plt.hist(us_census['Native'])\n",
        "plt.title('Native')\n",
        "plt.show()\n",
        "plt.cla()"
      ],
      "execution_count": null,
      "outputs": [
        {
          "output_type": "display_data",
          "data": {
            "image/png": "[encoded data removed]",
            "text/plain": [
              "<Figure size 432x288 with 1 Axes>"
            ]
          },
          "metadata": {
            "tags": [],
            "needs_background": "light"
          }
        },
        {
          "output_type": "display_data",
          "data": {
            "image/png": "[encoded data removed]",
            "text/plain": [
              "<Figure size 432x288 with 1 Axes>"
            ]
          },
          "metadata": {
            "tags": [],
            "needs_background": "light"
          }
        }
      ]
    },
    {
      "cell_type": "code",
      "metadata": {
        "colab": {
          "base_uri": "https://localhost:8080/",
          "height": 533
        },
        "id": "_-fCt_esqDr1",
        "outputId": "251f6a06-3b2a-4b0a-95bf-34721ecef28e"
      },
      "source": [
        "plt.hist(us_census['Pacific'])\n",
        "plt.title('Pacific')\n",
        "plt.show()\n",
        "plt.cla()"
      ],
      "execution_count": null,
      "outputs": [
        {
          "output_type": "display_data",
          "data": {
            "image/png": "[encoded data removed]",
            "text/plain": [
              "<Figure size 432x288 with 1 Axes>"
            ]
          },
          "metadata": {
            "tags": [],
            "needs_background": "light"
          }
        },
        {
          "output_type": "display_data",
          "data": {
            "image/png": "[encoded data removed]",
            "text/plain": [
              "<Figure size 432x288 with 1 Axes>"
            ]
          },
          "metadata": {
            "tags": [],
            "needs_background": "light"
          }
        }
      ]
    },
    {
      "cell_type": "code",
      "metadata": {
        "colab": {
          "base_uri": "https://localhost:8080/",
          "height": 533
        },
        "id": "PT0N4D90qNNX",
        "outputId": "538c35d3-a5db-4388-df8e-36481a526572"
      },
      "source": [
        "plt.hist(us_census['Asian'])\n",
        "plt.title('Asian')\n",
        "plt.show()\n",
        "plt.cla()"
      ],
      "execution_count": null,
      "outputs": [
        {
          "output_type": "display_data",
          "data": {
            "image/png": "[encoded data removed]",
            "text/plain": [
              "<Figure size 432x288 with 1 Axes>"
            ]
          },
          "metadata": {
            "tags": [],
            "needs_background": "light"
          }
        },
        {
          "output_type": "display_data",
          "data": {
            "image/png": "[encoded data removed]",
            "text/plain": [
              "<Figure size 432x288 with 1 Axes>"
            ]
          },
          "metadata": {
            "tags": [],
            "needs_background": "light"
          }
        }
      ]
    },
    {
      "cell_type": "code",
      "metadata": {
        "colab": {
          "base_uri": "https://localhost:8080/"
        },
        "id": "W8cjlGh1qZSf",
        "outputId": "64ffe823-295b-42a3-ddfe-1712369ba790"
      },
      "source": [
        "print(us_census.head())\n",
        "print(us_census.dtypes)"
      ],
      "execution_count": null,
      "outputs": [
        {
          "output_type": "stream",
          "text": [
            "   Unnamed: 0           State  ...      Men       Women\n",
            "0           0      New Jersey  ...  4343027   4561386.0\n",
            "1           1      New Mexico  ...  1032414   1051703.0\n",
            "2           2        New York  ...  9541801  10131373.0\n",
            "3           3  North Carolina  ...  4795408   5049925.0\n",
            "4           4    North Dakota  ...   367963    353677.0\n",
            "\n",
            "[5 rows x 13 columns]\n",
            "Unnamed: 0      int64\n",
            "State          object\n",
            "TotalPop        int64\n",
            "Hispanic      float64\n",
            "White         float64\n",
            "Black         float64\n",
            "Native        float64\n",
            "Asian         float64\n",
            "Pacific       float64\n",
            "Income        float64\n",
            "GenderPop      object\n",
            "Men             int64\n",
            "Women         float64\n",
            "dtype: object\n"
          ],
          "name": "stdout"
        }
      ]
    },
    {
      "cell_type": "code",
      "metadata": {
        "colab": {
          "base_uri": "https://localhost:8080/",
          "height": 1000
        },
        "id": "dz6Pfy26qhfV",
        "outputId": "03c34e33-0c6d-46a8-fc82-6d0028636327"
      },
      "source": [
        "us_census"
      ],
      "execution_count": null,
      "outputs": [
        {
          "output_type": "execute_result",
          "data": {
            "text/html": [
              "<div>\n",
              "<style scoped>\n",
              "    .dataframe tbody tr th:only-of-type {\n",
              "        vertical-align: middle;\n",
              "    }\n",
              "\n",
              "    .dataframe tbody tr th {\n",
              "        vertical-align: top;\n",
              "    }\n",
              "\n",
              "    .dataframe thead th {\n",
              "        text-align: right;\n",
              "    }\n",
              "</style>\n",
              "<table border=\"1\" class=\"dataframe\">\n",
              "  <thead>\n",
              "    <tr style=\"text-align: right;\">\n",
              "      <th></th>\n",
              "      <th>Unnamed: 0</th>\n",
              "      <th>State</th>\n",
              "      <th>TotalPop</th>\n",
              "      <th>Hispanic</th>\n",
              "      <th>White</th>\n",
              "      <th>Black</th>\n",
              "      <th>Native</th>\n",
              "      <th>Asian</th>\n",
              "      <th>Pacific</th>\n",
              "      <th>Income</th>\n",
              "      <th>GenderPop</th>\n",
              "      <th>Men</th>\n",
              "      <th>Women</th>\n",
              "    </tr>\n",
              "  </thead>\n",
              "  <tbody>\n",
              "    <tr>\n",
              "      <th>0</th>\n",
              "      <td>0</td>\n",
              "      <td>New Jersey</td>\n",
              "      <td>8904413</td>\n",
              "      <td>18.749500</td>\n",
              "      <td>56.488761</td>\n",
              "      <td>14.387862</td>\n",
              "      <td>0.115335</td>\n",
              "      <td>8.159990</td>\n",
              "      <td>0.031319</td>\n",
              "      <td>76581.083417</td>\n",
              "      <td>4343027M_4561386F</td>\n",
              "      <td>4343027</td>\n",
              "      <td>4561386.0</td>\n",
              "    </tr>\n",
              "    <tr>\n",
              "      <th>1</th>\n",
              "      <td>1</td>\n",
              "      <td>New Mexico</td>\n",
              "      <td>2084117</td>\n",
              "      <td>45.282932</td>\n",
              "      <td>40.697992</td>\n",
              "      <td>1.755020</td>\n",
              "      <td>9.248594</td>\n",
              "      <td>1.234337</td>\n",
              "      <td>0.042771</td>\n",
              "      <td>47329.967871</td>\n",
              "      <td>1032414M_1051703F</td>\n",
              "      <td>1032414</td>\n",
              "      <td>1051703.0</td>\n",
              "    </tr>\n",
              "    <tr>\n",
              "      <th>2</th>\n",
              "      <td>2</td>\n",
              "      <td>New York</td>\n",
              "      <td>19673174</td>\n",
              "      <td>17.241425</td>\n",
              "      <td>56.470105</td>\n",
              "      <td>15.668046</td>\n",
              "      <td>0.321639</td>\n",
              "      <td>7.897159</td>\n",
              "      <td>0.023451</td>\n",
              "      <td>64290.749113</td>\n",
              "      <td>9541801M_10131373F</td>\n",
              "      <td>9541801</td>\n",
              "      <td>10131373.0</td>\n",
              "    </tr>\n",
              "    <tr>\n",
              "      <th>3</th>\n",
              "      <td>3</td>\n",
              "      <td>North Carolina</td>\n",
              "      <td>9845333</td>\n",
              "      <td>8.464763</td>\n",
              "      <td>64.597651</td>\n",
              "      <td>21.395117</td>\n",
              "      <td>1.085491</td>\n",
              "      <td>2.317457</td>\n",
              "      <td>0.052326</td>\n",
              "      <td>49937.464137</td>\n",
              "      <td>4795408M_5049925F</td>\n",
              "      <td>4795408</td>\n",
              "      <td>5049925.0</td>\n",
              "    </tr>\n",
              "    <tr>\n",
              "      <th>4</th>\n",
              "      <td>4</td>\n",
              "      <td>North Dakota</td>\n",
              "      <td>721640</td>\n",
              "      <td>2.832683</td>\n",
              "      <td>87.448293</td>\n",
              "      <td>1.284390</td>\n",
              "      <td>5.651220</td>\n",
              "      <td>0.961951</td>\n",
              "      <td>0.282927</td>\n",
              "      <td>58188.112195</td>\n",
              "      <td>367963M_353677F</td>\n",
              "      <td>367963</td>\n",
              "      <td>353677.0</td>\n",
              "    </tr>\n",
              "    <tr>\n",
              "      <th>5</th>\n",
              "      <td>5</td>\n",
              "      <td>Ohio</td>\n",
              "      <td>11575977</td>\n",
              "      <td>3.672084</td>\n",
              "      <td>75.903060</td>\n",
              "      <td>16.207276</td>\n",
              "      <td>0.168888</td>\n",
              "      <td>1.621081</td>\n",
              "      <td>0.022645</td>\n",
              "      <td>49655.248466</td>\n",
              "      <td>5662893M_5913084F</td>\n",
              "      <td>5662893</td>\n",
              "      <td>5913084.0</td>\n",
              "    </tr>\n",
              "    <tr>\n",
              "      <th>0</th>\n",
              "      <td>0</td>\n",
              "      <td>Alabama</td>\n",
              "      <td>4830620</td>\n",
              "      <td>3.751616</td>\n",
              "      <td>61.878656</td>\n",
              "      <td>31.252976</td>\n",
              "      <td>0.453231</td>\n",
              "      <td>1.050255</td>\n",
              "      <td>0.034354</td>\n",
              "      <td>43296.358603</td>\n",
              "      <td>2341093M_2489527F</td>\n",
              "      <td>2341093</td>\n",
              "      <td>2489527.0</td>\n",
              "    </tr>\n",
              "    <tr>\n",
              "      <th>1</th>\n",
              "      <td>1</td>\n",
              "      <td>Alaska</td>\n",
              "      <td>733375</td>\n",
              "      <td>5.909581</td>\n",
              "      <td>60.910180</td>\n",
              "      <td>2.848503</td>\n",
              "      <td>16.391018</td>\n",
              "      <td>5.450299</td>\n",
              "      <td>1.058683</td>\n",
              "      <td>70354.743902</td>\n",
              "      <td>384160M_349215F</td>\n",
              "      <td>384160</td>\n",
              "      <td>349215.0</td>\n",
              "    </tr>\n",
              "    <tr>\n",
              "      <th>2</th>\n",
              "      <td>2</td>\n",
              "      <td>Arizona</td>\n",
              "      <td>6641928</td>\n",
              "      <td>29.565921</td>\n",
              "      <td>57.120000</td>\n",
              "      <td>3.850987</td>\n",
              "      <td>4.355066</td>\n",
              "      <td>2.876579</td>\n",
              "      <td>0.167632</td>\n",
              "      <td>54207.820955</td>\n",
              "      <td>3299088M_3342840F</td>\n",
              "      <td>3299088</td>\n",
              "      <td>3342840.0</td>\n",
              "    </tr>\n",
              "    <tr>\n",
              "      <th>3</th>\n",
              "      <td>3</td>\n",
              "      <td>Arkansas</td>\n",
              "      <td>2958208</td>\n",
              "      <td>6.215474</td>\n",
              "      <td>71.137810</td>\n",
              "      <td>18.968759</td>\n",
              "      <td>0.522920</td>\n",
              "      <td>1.142336</td>\n",
              "      <td>0.146861</td>\n",
              "      <td>41935.633968</td>\n",
              "      <td>1451913M_1506295F</td>\n",
              "      <td>1451913</td>\n",
              "      <td>1506295.0</td>\n",
              "    </tr>\n",
              "    <tr>\n",
              "      <th>4</th>\n",
              "      <td>4</td>\n",
              "      <td>California</td>\n",
              "      <td>38421464</td>\n",
              "      <td>37.291875</td>\n",
              "      <td>40.215789</td>\n",
              "      <td>5.677396</td>\n",
              "      <td>0.405292</td>\n",
              "      <td>13.052234</td>\n",
              "      <td>0.351410</td>\n",
              "      <td>67264.782303</td>\n",
              "      <td>19087135M_19334329F</td>\n",
              "      <td>19087135</td>\n",
              "      <td>19334329.0</td>\n",
              "    </tr>\n",
              "    <tr>\n",
              "      <th>5</th>\n",
              "      <td>5</td>\n",
              "      <td>Colorado</td>\n",
              "      <td>5278906</td>\n",
              "      <td>20.784380</td>\n",
              "      <td>69.895572</td>\n",
              "      <td>3.546377</td>\n",
              "      <td>0.573833</td>\n",
              "      <td>2.661997</td>\n",
              "      <td>0.282927</td>\n",
              "      <td>64657.801787</td>\n",
              "      <td>2648667M_2630239F</td>\n",
              "      <td>2648667</td>\n",
              "      <td>2630239.0</td>\n",
              "    </tr>\n",
              "    <tr>\n",
              "      <th>0</th>\n",
              "      <td>0</td>\n",
              "      <td>Georgia</td>\n",
              "      <td>10006693</td>\n",
              "      <td>8.418242</td>\n",
              "      <td>54.286306</td>\n",
              "      <td>32.088298</td>\n",
              "      <td>0.187583</td>\n",
              "      <td>3.097649</td>\n",
              "      <td>0.046602</td>\n",
              "      <td>50811.082051</td>\n",
              "      <td>4883331M_5123362F</td>\n",
              "      <td>4883331</td>\n",
              "      <td>5123362.0</td>\n",
              "    </tr>\n",
              "    <tr>\n",
              "      <th>1</th>\n",
              "      <td>1</td>\n",
              "      <td>Hawaii</td>\n",
              "      <td>1406299</td>\n",
              "      <td>9.186709</td>\n",
              "      <td>25.032278</td>\n",
              "      <td>2.052848</td>\n",
              "      <td>0.144937</td>\n",
              "      <td>36.592089</td>\n",
              "      <td>8.758861</td>\n",
              "      <td>73264.426282</td>\n",
              "      <td>709871M_696428F</td>\n",
              "      <td>709871</td>\n",
              "      <td>696428.0</td>\n",
              "    </tr>\n",
              "    <tr>\n",
              "      <th>2</th>\n",
              "      <td>2</td>\n",
              "      <td>Idaho</td>\n",
              "      <td>1616547</td>\n",
              "      <td>11.505369</td>\n",
              "      <td>83.136242</td>\n",
              "      <td>0.566779</td>\n",
              "      <td>1.468121</td>\n",
              "      <td>1.135906</td>\n",
              "      <td>0.127181</td>\n",
              "      <td>48017.315436</td>\n",
              "      <td>810464M_806083F</td>\n",
              "      <td>810464</td>\n",
              "      <td>806083.0</td>\n",
              "    </tr>\n",
              "    <tr>\n",
              "      <th>3</th>\n",
              "      <td>3</td>\n",
              "      <td>Illinois</td>\n",
              "      <td>12873761</td>\n",
              "      <td>15.601734</td>\n",
              "      <td>60.859807</td>\n",
              "      <td>17.108411</td>\n",
              "      <td>0.118427</td>\n",
              "      <td>4.475377</td>\n",
              "      <td>0.020032</td>\n",
              "      <td>59587.048875</td>\n",
              "      <td>6316899M_6556862F</td>\n",
              "      <td>6316899</td>\n",
              "      <td>6556862.0</td>\n",
              "    </tr>\n",
              "    <tr>\n",
              "      <th>4</th>\n",
              "      <td>4</td>\n",
              "      <td>Indiana</td>\n",
              "      <td>6568645</td>\n",
              "      <td>6.536744</td>\n",
              "      <td>78.431894</td>\n",
              "      <td>11.186977</td>\n",
              "      <td>0.194086</td>\n",
              "      <td>1.578272</td>\n",
              "      <td>0.032625</td>\n",
              "      <td>48616.227848</td>\n",
              "      <td>3235263M_3333382F</td>\n",
              "      <td>3235263</td>\n",
              "      <td>3333382.0</td>\n",
              "    </tr>\n",
              "    <tr>\n",
              "      <th>5</th>\n",
              "      <td>5</td>\n",
              "      <td>Iowa</td>\n",
              "      <td>3093526</td>\n",
              "      <td>5.303645</td>\n",
              "      <td>87.719684</td>\n",
              "      <td>3.256987</td>\n",
              "      <td>0.289793</td>\n",
              "      <td>1.699392</td>\n",
              "      <td>0.055164</td>\n",
              "      <td>53017.753041</td>\n",
              "      <td>1534595M_1558931F</td>\n",
              "      <td>1534595</td>\n",
              "      <td>1558931.0</td>\n",
              "    </tr>\n",
              "    <tr>\n",
              "      <th>0</th>\n",
              "      <td>0</td>\n",
              "      <td>Ohio</td>\n",
              "      <td>11575977</td>\n",
              "      <td>3.672084</td>\n",
              "      <td>75.903060</td>\n",
              "      <td>16.207276</td>\n",
              "      <td>0.168888</td>\n",
              "      <td>1.621081</td>\n",
              "      <td>0.022645</td>\n",
              "      <td>49655.248466</td>\n",
              "      <td>5662893M_5913084F</td>\n",
              "      <td>5662893</td>\n",
              "      <td>5913084.0</td>\n",
              "    </tr>\n",
              "    <tr>\n",
              "      <th>1</th>\n",
              "      <td>1</td>\n",
              "      <td>Oklahoma</td>\n",
              "      <td>3849733</td>\n",
              "      <td>10.079904</td>\n",
              "      <td>66.059426</td>\n",
              "      <td>8.314737</td>\n",
              "      <td>6.716842</td>\n",
              "      <td>1.801148</td>\n",
              "      <td>0.106220</td>\n",
              "      <td>48100.854267</td>\n",
              "      <td>1906944M_1942789F</td>\n",
              "      <td>1906944</td>\n",
              "      <td>1942789.0</td>\n",
              "    </tr>\n",
              "    <tr>\n",
              "      <th>2</th>\n",
              "      <td>2</td>\n",
              "      <td>Oregon</td>\n",
              "      <td>3939233</td>\n",
              "      <td>11.441212</td>\n",
              "      <td>78.395515</td>\n",
              "      <td>1.730788</td>\n",
              "      <td>1.000242</td>\n",
              "      <td>3.594909</td>\n",
              "      <td>0.345333</td>\n",
              "      <td>54271.901818</td>\n",
              "      <td>1948453M_1990780F</td>\n",
              "      <td>1948453</td>\n",
              "      <td>1990780.0</td>\n",
              "    </tr>\n",
              "    <tr>\n",
              "      <th>3</th>\n",
              "      <td>3</td>\n",
              "      <td>Pennsylvania</td>\n",
              "      <td>12779559</td>\n",
              "      <td>6.128014</td>\n",
              "      <td>77.383854</td>\n",
              "      <td>11.633948</td>\n",
              "      <td>0.119269</td>\n",
              "      <td>2.797751</td>\n",
              "      <td>0.019394</td>\n",
              "      <td>56170.464510</td>\n",
              "      <td>6245344M_6534215F</td>\n",
              "      <td>6245344</td>\n",
              "      <td>6534215.0</td>\n",
              "    </tr>\n",
              "    <tr>\n",
              "      <th>4</th>\n",
              "      <td>4</td>\n",
              "      <td>Puerto Rico</td>\n",
              "      <td>3583073</td>\n",
              "      <td>98.893574</td>\n",
              "      <td>0.773619</td>\n",
              "      <td>0.092559</td>\n",
              "      <td>0.002818</td>\n",
              "      <td>0.075197</td>\n",
              "      <td>0.001240</td>\n",
              "      <td>20720.538286</td>\n",
              "      <td>1713860M_1869213F</td>\n",
              "      <td>1713860</td>\n",
              "      <td>1869213.0</td>\n",
              "    </tr>\n",
              "    <tr>\n",
              "      <th>5</th>\n",
              "      <td>5</td>\n",
              "      <td>Rhode Island</td>\n",
              "      <td>1053661</td>\n",
              "      <td>13.356667</td>\n",
              "      <td>74.325417</td>\n",
              "      <td>5.682917</td>\n",
              "      <td>0.346250</td>\n",
              "      <td>3.247500</td>\n",
              "      <td>0.035833</td>\n",
              "      <td>59125.270833</td>\n",
              "      <td>510388M_543273F</td>\n",
              "      <td>510388</td>\n",
              "      <td>543273.0</td>\n",
              "    </tr>\n",
              "    <tr>\n",
              "      <th>0</th>\n",
              "      <td>0</td>\n",
              "      <td>Missouri</td>\n",
              "      <td>6045448</td>\n",
              "      <td>4.037248</td>\n",
              "      <td>77.508069</td>\n",
              "      <td>14.122118</td>\n",
              "      <td>0.363329</td>\n",
              "      <td>1.624496</td>\n",
              "      <td>0.101657</td>\n",
              "      <td>49763.987726</td>\n",
              "      <td>2964003M_3081445F</td>\n",
              "      <td>2964003</td>\n",
              "      <td>3081445.0</td>\n",
              "    </tr>\n",
              "    <tr>\n",
              "      <th>1</th>\n",
              "      <td>1</td>\n",
              "      <td>Montana</td>\n",
              "      <td>1014699</td>\n",
              "      <td>3.268889</td>\n",
              "      <td>86.415556</td>\n",
              "      <td>0.429259</td>\n",
              "      <td>7.060741</td>\n",
              "      <td>0.570370</td>\n",
              "      <td>0.072222</td>\n",
              "      <td>47645.682836</td>\n",
              "      <td>510163M_F</td>\n",
              "      <td>510163</td>\n",
              "      <td>504536.0</td>\n",
              "    </tr>\n",
              "    <tr>\n",
              "      <th>2</th>\n",
              "      <td>2</td>\n",
              "      <td>Nebraska</td>\n",
              "      <td>1869365</td>\n",
              "      <td>9.203759</td>\n",
              "      <td>81.139474</td>\n",
              "      <td>4.956203</td>\n",
              "      <td>0.864474</td>\n",
              "      <td>1.859023</td>\n",
              "      <td>0.057143</td>\n",
              "      <td>55916.469697</td>\n",
              "      <td>929606M_939759F</td>\n",
              "      <td>929606</td>\n",
              "      <td>939759.0</td>\n",
              "    </tr>\n",
              "    <tr>\n",
              "      <th>3</th>\n",
              "      <td>3</td>\n",
              "      <td>Nevada</td>\n",
              "      <td>2798636</td>\n",
              "      <td>27.100884</td>\n",
              "      <td>53.239323</td>\n",
              "      <td>7.739617</td>\n",
              "      <td>1.087187</td>\n",
              "      <td>7.095729</td>\n",
              "      <td>0.574521</td>\n",
              "      <td>55526.525074</td>\n",
              "      <td>1407735M_1390901F</td>\n",
              "      <td>1407735</td>\n",
              "      <td>1390901.0</td>\n",
              "    </tr>\n",
              "    <tr>\n",
              "      <th>4</th>\n",
              "      <td>4</td>\n",
              "      <td>New Hampshire</td>\n",
              "      <td>1324201</td>\n",
              "      <td>3.321918</td>\n",
              "      <td>91.319178</td>\n",
              "      <td>1.227740</td>\n",
              "      <td>0.142808</td>\n",
              "      <td>2.191438</td>\n",
              "      <td>0.016096</td>\n",
              "      <td>68728.859589</td>\n",
              "      <td>653484M_670717F</td>\n",
              "      <td>653484</td>\n",
              "      <td>670717.0</td>\n",
              "    </tr>\n",
              "    <tr>\n",
              "      <th>5</th>\n",
              "      <td>5</td>\n",
              "      <td>New Jersey</td>\n",
              "      <td>8904413</td>\n",
              "      <td>18.749500</td>\n",
              "      <td>56.488761</td>\n",
              "      <td>14.387862</td>\n",
              "      <td>0.115335</td>\n",
              "      <td>8.159990</td>\n",
              "      <td>0.031319</td>\n",
              "      <td>76581.083417</td>\n",
              "      <td>4343027M_4561386F</td>\n",
              "      <td>4343027</td>\n",
              "      <td>4561386.0</td>\n",
              "    </tr>\n",
              "    <tr>\n",
              "      <th>0</th>\n",
              "      <td>0</td>\n",
              "      <td>Iowa</td>\n",
              "      <td>3093526</td>\n",
              "      <td>5.303645</td>\n",
              "      <td>87.719684</td>\n",
              "      <td>3.256987</td>\n",
              "      <td>0.289793</td>\n",
              "      <td>1.699392</td>\n",
              "      <td>0.055164</td>\n",
              "      <td>53017.753041</td>\n",
              "      <td>1534595M_1558931F</td>\n",
              "      <td>1534595</td>\n",
              "      <td>1558931.0</td>\n",
              "    </tr>\n",
              "    <tr>\n",
              "      <th>1</th>\n",
              "      <td>1</td>\n",
              "      <td>Kansas</td>\n",
              "      <td>2892987</td>\n",
              "      <td>11.644342</td>\n",
              "      <td>75.958289</td>\n",
              "      <td>6.567895</td>\n",
              "      <td>0.733947</td>\n",
              "      <td>2.331053</td>\n",
              "      <td>0.282927</td>\n",
              "      <td>53885.612648</td>\n",
              "      <td>1439862M_1453125F</td>\n",
              "      <td>1439862</td>\n",
              "      <td>1453125.0</td>\n",
              "    </tr>\n",
              "    <tr>\n",
              "      <th>2</th>\n",
              "      <td>2</td>\n",
              "      <td>Kentucky</td>\n",
              "      <td>4397353</td>\n",
              "      <td>3.222994</td>\n",
              "      <td>85.230748</td>\n",
              "      <td>8.272317</td>\n",
              "      <td>0.166637</td>\n",
              "      <td>1.129847</td>\n",
              "      <td>0.046438</td>\n",
              "      <td>45285.802536</td>\n",
              "      <td>2164208M_2233145F</td>\n",
              "      <td>2164208</td>\n",
              "      <td>2233145.0</td>\n",
              "    </tr>\n",
              "    <tr>\n",
              "      <th>3</th>\n",
              "      <td>3</td>\n",
              "      <td>Louisiana</td>\n",
              "      <td>4625253</td>\n",
              "      <td>4.866489</td>\n",
              "      <td>54.978546</td>\n",
              "      <td>36.326241</td>\n",
              "      <td>0.484309</td>\n",
              "      <td>1.669060</td>\n",
              "      <td>0.039184</td>\n",
              "      <td>44957.993761</td>\n",
              "      <td>2261156M_2364097F</td>\n",
              "      <td>2261156</td>\n",
              "      <td>2364097.0</td>\n",
              "    </tr>\n",
              "    <tr>\n",
              "      <th>4</th>\n",
              "      <td>4</td>\n",
              "      <td>Maine</td>\n",
              "      <td>1329100</td>\n",
              "      <td>1.431909</td>\n",
              "      <td>93.707407</td>\n",
              "      <td>1.134473</td>\n",
              "      <td>0.788319</td>\n",
              "      <td>0.965812</td>\n",
              "      <td>0.015670</td>\n",
              "      <td>49181.974359</td>\n",
              "      <td>650081M_679019F</td>\n",
              "      <td>650081</td>\n",
              "      <td>679019.0</td>\n",
              "    </tr>\n",
              "    <tr>\n",
              "      <th>5</th>\n",
              "      <td>5</td>\n",
              "      <td>Maryland</td>\n",
              "      <td>5930538</td>\n",
              "      <td>8.472498</td>\n",
              "      <td>52.679050</td>\n",
              "      <td>30.677754</td>\n",
              "      <td>0.203096</td>\n",
              "      <td>5.325414</td>\n",
              "      <td>0.036285</td>\n",
              "      <td>78765.400725</td>\n",
              "      <td>2872643M_F</td>\n",
              "      <td>2872643</td>\n",
              "      <td>3057895.0</td>\n",
              "    </tr>\n",
              "    <tr>\n",
              "      <th>0</th>\n",
              "      <td>0</td>\n",
              "      <td>Maryland</td>\n",
              "      <td>5930538</td>\n",
              "      <td>8.472498</td>\n",
              "      <td>52.679050</td>\n",
              "      <td>30.677754</td>\n",
              "      <td>0.203096</td>\n",
              "      <td>5.325414</td>\n",
              "      <td>0.036285</td>\n",
              "      <td>78765.400725</td>\n",
              "      <td>2872643M_F</td>\n",
              "      <td>2872643</td>\n",
              "      <td>3057895.0</td>\n",
              "    </tr>\n",
              "    <tr>\n",
              "      <th>1</th>\n",
              "      <td>1</td>\n",
              "      <td>Massachusetts</td>\n",
              "      <td>6705586</td>\n",
              "      <td>11.461066</td>\n",
              "      <td>73.041052</td>\n",
              "      <td>6.833128</td>\n",
              "      <td>0.128279</td>\n",
              "      <td>5.835656</td>\n",
              "      <td>0.019809</td>\n",
              "      <td>72838.936726</td>\n",
              "      <td>3249650M_3455936F</td>\n",
              "      <td>3249650</td>\n",
              "      <td>3455936.0</td>\n",
              "    </tr>\n",
              "    <tr>\n",
              "      <th>2</th>\n",
              "      <td>2</td>\n",
              "      <td>Michigan</td>\n",
              "      <td>9900571</td>\n",
              "      <td>4.634993</td>\n",
              "      <td>72.381722</td>\n",
              "      <td>17.633103</td>\n",
              "      <td>0.484411</td>\n",
              "      <td>2.423110</td>\n",
              "      <td>0.019549</td>\n",
              "      <td>51201.830037</td>\n",
              "      <td>4861973M_5038598F</td>\n",
              "      <td>4861973</td>\n",
              "      <td>5038598.0</td>\n",
              "    </tr>\n",
              "    <tr>\n",
              "      <th>3</th>\n",
              "      <td>3</td>\n",
              "      <td>Minnesota</td>\n",
              "      <td>5419171</td>\n",
              "      <td>5.152924</td>\n",
              "      <td>81.427061</td>\n",
              "      <td>5.659820</td>\n",
              "      <td>1.069040</td>\n",
              "      <td>4.156072</td>\n",
              "      <td>0.032909</td>\n",
              "      <td>62820.833959</td>\n",
              "      <td>2692166M_2727005F</td>\n",
              "      <td>2692166</td>\n",
              "      <td>2727005.0</td>\n",
              "    </tr>\n",
              "    <tr>\n",
              "      <th>4</th>\n",
              "      <td>4</td>\n",
              "      <td>Mississippi</td>\n",
              "      <td>2988081</td>\n",
              "      <td>2.842401</td>\n",
              "      <td>53.286322</td>\n",
              "      <td>41.491945</td>\n",
              "      <td>0.389970</td>\n",
              "      <td>0.876444</td>\n",
              "      <td>0.015046</td>\n",
              "      <td>38909.919207</td>\n",
              "      <td>1451723M_1536358F</td>\n",
              "      <td>1451723</td>\n",
              "      <td>1536358.0</td>\n",
              "    </tr>\n",
              "    <tr>\n",
              "      <th>5</th>\n",
              "      <td>5</td>\n",
              "      <td>Missouri</td>\n",
              "      <td>6045448</td>\n",
              "      <td>4.037248</td>\n",
              "      <td>77.508069</td>\n",
              "      <td>14.122118</td>\n",
              "      <td>0.363329</td>\n",
              "      <td>1.624496</td>\n",
              "      <td>0.101657</td>\n",
              "      <td>49763.987726</td>\n",
              "      <td>2964003M_3081445F</td>\n",
              "      <td>2964003</td>\n",
              "      <td>3081445.0</td>\n",
              "    </tr>\n",
              "    <tr>\n",
              "      <th>0</th>\n",
              "      <td>0</td>\n",
              "      <td>Utah</td>\n",
              "      <td>2903379</td>\n",
              "      <td>13.468376</td>\n",
              "      <td>79.406838</td>\n",
              "      <td>1.017949</td>\n",
              "      <td>1.081368</td>\n",
              "      <td>2.196068</td>\n",
              "      <td>0.825983</td>\n",
              "      <td>63488.917808</td>\n",
              "      <td>1459229M_1444150F</td>\n",
              "      <td>1459229</td>\n",
              "      <td>1444150.0</td>\n",
              "    </tr>\n",
              "    <tr>\n",
              "      <th>1</th>\n",
              "      <td>1</td>\n",
              "      <td>Vermont</td>\n",
              "      <td>626604</td>\n",
              "      <td>1.609290</td>\n",
              "      <td>93.983060</td>\n",
              "      <td>0.980874</td>\n",
              "      <td>0.301639</td>\n",
              "      <td>1.238798</td>\n",
              "      <td>0.030601</td>\n",
              "      <td>55602.967213</td>\n",
              "      <td>308573M_318031F</td>\n",
              "      <td>308573</td>\n",
              "      <td>318031.0</td>\n",
              "    </tr>\n",
              "    <tr>\n",
              "      <th>2</th>\n",
              "      <td>2</td>\n",
              "      <td>Virginia</td>\n",
              "      <td>8256630</td>\n",
              "      <td>8.011016</td>\n",
              "      <td>63.271048</td>\n",
              "      <td>20.175998</td>\n",
              "      <td>0.212453</td>\n",
              "      <td>5.455242</td>\n",
              "      <td>0.064715</td>\n",
              "      <td>72866.013412</td>\n",
              "      <td>4060948M_4195682F</td>\n",
              "      <td>4060948</td>\n",
              "      <td>4195682.0</td>\n",
              "    </tr>\n",
              "    <tr>\n",
              "      <th>3</th>\n",
              "      <td>3</td>\n",
              "      <td>Washington</td>\n",
              "      <td>6985464</td>\n",
              "      <td>11.140969</td>\n",
              "      <td>72.038408</td>\n",
              "      <td>3.384429</td>\n",
              "      <td>1.410727</td>\n",
              "      <td>7.022007</td>\n",
              "      <td>0.609896</td>\n",
              "      <td>64493.767684</td>\n",
              "      <td>3487725M_3497739F</td>\n",
              "      <td>3487725</td>\n",
              "      <td>3497739.0</td>\n",
              "    </tr>\n",
              "    <tr>\n",
              "      <th>4</th>\n",
              "      <td>4</td>\n",
              "      <td>West Virginia</td>\n",
              "      <td>1851420</td>\n",
              "      <td>1.290909</td>\n",
              "      <td>92.176240</td>\n",
              "      <td>3.662810</td>\n",
              "      <td>0.152686</td>\n",
              "      <td>0.682438</td>\n",
              "      <td>0.026446</td>\n",
              "      <td>41437.111570</td>\n",
              "      <td>913631M_937789F</td>\n",
              "      <td>913631</td>\n",
              "      <td>937789.0</td>\n",
              "    </tr>\n",
              "    <tr>\n",
              "      <th>5</th>\n",
              "      <td>5</td>\n",
              "      <td>Wisconsin</td>\n",
              "      <td>5742117</td>\n",
              "      <td>6.683333</td>\n",
              "      <td>79.864009</td>\n",
              "      <td>8.195187</td>\n",
              "      <td>0.953664</td>\n",
              "      <td>2.404239</td>\n",
              "      <td>0.020833</td>\n",
              "      <td>53898.889209</td>\n",
              "      <td>2851385M_2890732F</td>\n",
              "      <td>2851385</td>\n",
              "      <td>2890732.0</td>\n",
              "    </tr>\n",
              "    <tr>\n",
              "      <th>0</th>\n",
              "      <td>0</td>\n",
              "      <td>Rhode Island</td>\n",
              "      <td>1053661</td>\n",
              "      <td>13.356667</td>\n",
              "      <td>74.325417</td>\n",
              "      <td>5.682917</td>\n",
              "      <td>0.346250</td>\n",
              "      <td>3.247500</td>\n",
              "      <td>0.035833</td>\n",
              "      <td>59125.270833</td>\n",
              "      <td>510388M_543273F</td>\n",
              "      <td>510388</td>\n",
              "      <td>543273.0</td>\n",
              "    </tr>\n",
              "    <tr>\n",
              "      <th>1</th>\n",
              "      <td>1</td>\n",
              "      <td>South Carolina</td>\n",
              "      <td>4777576</td>\n",
              "      <td>5.056685</td>\n",
              "      <td>62.888736</td>\n",
              "      <td>28.750916</td>\n",
              "      <td>0.292399</td>\n",
              "      <td>1.249176</td>\n",
              "      <td>0.046978</td>\n",
              "      <td>46296.807763</td>\n",
              "      <td>2322409M_2455167F</td>\n",
              "      <td>2322409</td>\n",
              "      <td>2455167.0</td>\n",
              "    </tr>\n",
              "    <tr>\n",
              "      <th>2</th>\n",
              "      <td>2</td>\n",
              "      <td>South Dakota</td>\n",
              "      <td>843190</td>\n",
              "      <td>3.239640</td>\n",
              "      <td>82.500901</td>\n",
              "      <td>1.423874</td>\n",
              "      <td>9.417568</td>\n",
              "      <td>1.019369</td>\n",
              "      <td>0.041892</td>\n",
              "      <td>51805.405405</td>\n",
              "      <td>423477M_419713F</td>\n",
              "      <td>423477</td>\n",
              "      <td>419713.0</td>\n",
              "    </tr>\n",
              "    <tr>\n",
              "      <th>3</th>\n",
              "      <td>3</td>\n",
              "      <td>Tennessee</td>\n",
              "      <td>6499615</td>\n",
              "      <td>4.720027</td>\n",
              "      <td>73.490088</td>\n",
              "      <td>18.283817</td>\n",
              "      <td>0.226635</td>\n",
              "      <td>1.407283</td>\n",
              "      <td>0.043156</td>\n",
              "      <td>47328.083617</td>\n",
              "      <td>3167756M_3331859F</td>\n",
              "      <td>3167756</td>\n",
              "      <td>3331859.0</td>\n",
              "    </tr>\n",
              "    <tr>\n",
              "      <th>4</th>\n",
              "      <td>4</td>\n",
              "      <td>Texas</td>\n",
              "      <td>26538614</td>\n",
              "      <td>38.046738</td>\n",
              "      <td>44.687909</td>\n",
              "      <td>11.650048</td>\n",
              "      <td>0.261144</td>\n",
              "      <td>3.669696</td>\n",
              "      <td>0.068816</td>\n",
              "      <td>55874.522601</td>\n",
              "      <td>13171316M_13367298F</td>\n",
              "      <td>13171316</td>\n",
              "      <td>13367298.0</td>\n",
              "    </tr>\n",
              "    <tr>\n",
              "      <th>5</th>\n",
              "      <td>5</td>\n",
              "      <td>Utah</td>\n",
              "      <td>2903379</td>\n",
              "      <td>13.468376</td>\n",
              "      <td>79.406838</td>\n",
              "      <td>1.017949</td>\n",
              "      <td>1.081368</td>\n",
              "      <td>2.196068</td>\n",
              "      <td>0.825983</td>\n",
              "      <td>63488.917808</td>\n",
              "      <td>1459229M_1444150F</td>\n",
              "      <td>1459229</td>\n",
              "      <td>1444150.0</td>\n",
              "    </tr>\n",
              "    <tr>\n",
              "      <th>0</th>\n",
              "      <td>0</td>\n",
              "      <td>Colorado</td>\n",
              "      <td>5278906</td>\n",
              "      <td>20.784380</td>\n",
              "      <td>69.895572</td>\n",
              "      <td>3.546377</td>\n",
              "      <td>0.573833</td>\n",
              "      <td>2.661997</td>\n",
              "      <td>0.282927</td>\n",
              "      <td>64657.801787</td>\n",
              "      <td>2648667M_2630239F</td>\n",
              "      <td>2648667</td>\n",
              "      <td>2630239.0</td>\n",
              "    </tr>\n",
              "    <tr>\n",
              "      <th>1</th>\n",
              "      <td>1</td>\n",
              "      <td>Connecticut</td>\n",
              "      <td>3593222</td>\n",
              "      <td>15.604831</td>\n",
              "      <td>67.677053</td>\n",
              "      <td>10.348068</td>\n",
              "      <td>0.126208</td>\n",
              "      <td>4.021981</td>\n",
              "      <td>0.018599</td>\n",
              "      <td>76146.560588</td>\n",
              "      <td>1751607M_1841615F</td>\n",
              "      <td>1751607</td>\n",
              "      <td>1841615.0</td>\n",
              "    </tr>\n",
              "    <tr>\n",
              "      <th>2</th>\n",
              "      <td>2</td>\n",
              "      <td>Delaware</td>\n",
              "      <td>926454</td>\n",
              "      <td>8.824766</td>\n",
              "      <td>64.632710</td>\n",
              "      <td>20.743925</td>\n",
              "      <td>0.259813</td>\n",
              "      <td>3.268692</td>\n",
              "      <td>0.282927</td>\n",
              "      <td>61827.976636</td>\n",
              "      <td>448413M_478041F</td>\n",
              "      <td>448413</td>\n",
              "      <td>478041.0</td>\n",
              "    </tr>\n",
              "    <tr>\n",
              "      <th>3</th>\n",
              "      <td>3</td>\n",
              "      <td>District of Columbia</td>\n",
              "      <td>647484</td>\n",
              "      <td>9.165922</td>\n",
              "      <td>33.103911</td>\n",
              "      <td>51.776536</td>\n",
              "      <td>0.200559</td>\n",
              "      <td>3.383240</td>\n",
              "      <td>0.029609</td>\n",
              "      <td>75466.363636</td>\n",
              "      <td>306674M_340810F</td>\n",
              "      <td>306674</td>\n",
              "      <td>340810.0</td>\n",
              "    </tr>\n",
              "    <tr>\n",
              "      <th>4</th>\n",
              "      <td>4</td>\n",
              "      <td>Florida</td>\n",
              "      <td>19645772</td>\n",
              "      <td>21.338543</td>\n",
              "      <td>59.083749</td>\n",
              "      <td>15.165676</td>\n",
              "      <td>0.210451</td>\n",
              "      <td>2.283174</td>\n",
              "      <td>0.051510</td>\n",
              "      <td>50690.194987</td>\n",
              "      <td>9600009M_10045763F</td>\n",
              "      <td>9600009</td>\n",
              "      <td>10045763.0</td>\n",
              "    </tr>\n",
              "    <tr>\n",
              "      <th>5</th>\n",
              "      <td>5</td>\n",
              "      <td>Georgia</td>\n",
              "      <td>10006693</td>\n",
              "      <td>8.418242</td>\n",
              "      <td>54.286306</td>\n",
              "      <td>32.088298</td>\n",
              "      <td>0.187583</td>\n",
              "      <td>3.097649</td>\n",
              "      <td>0.046602</td>\n",
              "      <td>50811.082051</td>\n",
              "      <td>4883331M_5123362F</td>\n",
              "      <td>4883331</td>\n",
              "      <td>5123362.0</td>\n",
              "    </tr>\n",
              "  </tbody>\n",
              "</table>\n",
              "</div>"
            ],
            "text/plain": [
              "   Unnamed: 0                 State  ...       Men       Women\n",
              "0           0            New Jersey  ...   4343027   4561386.0\n",
              "1           1            New Mexico  ...   1032414   1051703.0\n",
              "2           2              New York  ...   9541801  10131373.0\n",
              "3           3        North Carolina  ...   4795408   5049925.0\n",
              "4           4          North Dakota  ...    367963    353677.0\n",
              "5           5                  Ohio  ...   5662893   5913084.0\n",
              "0           0               Alabama  ...   2341093   2489527.0\n",
              "1           1                Alaska  ...    384160    349215.0\n",
              "2           2               Arizona  ...   3299088   3342840.0\n",
              "3           3              Arkansas  ...   1451913   1506295.0\n",
              "4           4            California  ...  19087135  19334329.0\n",
              "5           5              Colorado  ...   2648667   2630239.0\n",
              "0           0               Georgia  ...   4883331   5123362.0\n",
              "1           1                Hawaii  ...    709871    696428.0\n",
              "2           2                 Idaho  ...    810464    806083.0\n",
              "3           3              Illinois  ...   6316899   6556862.0\n",
              "4           4               Indiana  ...   3235263   3333382.0\n",
              "5           5                  Iowa  ...   1534595   1558931.0\n",
              "0           0                  Ohio  ...   5662893   5913084.0\n",
              "1           1              Oklahoma  ...   1906944   1942789.0\n",
              "2           2                Oregon  ...   1948453   1990780.0\n",
              "3           3          Pennsylvania  ...   6245344   6534215.0\n",
              "4           4           Puerto Rico  ...   1713860   1869213.0\n",
              "5           5          Rhode Island  ...    510388    543273.0\n",
              "0           0              Missouri  ...   2964003   3081445.0\n",
              "1           1               Montana  ...    510163    504536.0\n",
              "2           2              Nebraska  ...    929606    939759.0\n",
              "3           3                Nevada  ...   1407735   1390901.0\n",
              "4           4         New Hampshire  ...    653484    670717.0\n",
              "5           5            New Jersey  ...   4343027   4561386.0\n",
              "0           0                  Iowa  ...   1534595   1558931.0\n",
              "1           1                Kansas  ...   1439862   1453125.0\n",
              "2           2              Kentucky  ...   2164208   2233145.0\n",
              "3           3             Louisiana  ...   2261156   2364097.0\n",
              "4           4                 Maine  ...    650081    679019.0\n",
              "5           5              Maryland  ...   2872643   3057895.0\n",
              "0           0              Maryland  ...   2872643   3057895.0\n",
              "1           1         Massachusetts  ...   3249650   3455936.0\n",
              "2           2              Michigan  ...   4861973   5038598.0\n",
              "3           3             Minnesota  ...   2692166   2727005.0\n",
              "4           4           Mississippi  ...   1451723   1536358.0\n",
              "5           5              Missouri  ...   2964003   3081445.0\n",
              "0           0                  Utah  ...   1459229   1444150.0\n",
              "1           1               Vermont  ...    308573    318031.0\n",
              "2           2              Virginia  ...   4060948   4195682.0\n",
              "3           3            Washington  ...   3487725   3497739.0\n",
              "4           4         West Virginia  ...    913631    937789.0\n",
              "5           5             Wisconsin  ...   2851385   2890732.0\n",
              "0           0          Rhode Island  ...    510388    543273.0\n",
              "1           1        South Carolina  ...   2322409   2455167.0\n",
              "2           2          South Dakota  ...    423477    419713.0\n",
              "3           3             Tennessee  ...   3167756   3331859.0\n",
              "4           4                 Texas  ...  13171316  13367298.0\n",
              "5           5                  Utah  ...   1459229   1444150.0\n",
              "0           0              Colorado  ...   2648667   2630239.0\n",
              "1           1           Connecticut  ...   1751607   1841615.0\n",
              "2           2              Delaware  ...    448413    478041.0\n",
              "3           3  District of Columbia  ...    306674    340810.0\n",
              "4           4               Florida  ...   9600009  10045763.0\n",
              "5           5               Georgia  ...   4883331   5123362.0\n",
              "\n",
              "[60 rows x 13 columns]"
            ]
          },
          "metadata": {
            "tags": []
          },
          "execution_count": 35
        }
      ]
    },
    {
      "cell_type": "code",
      "metadata": {
        "id": "MuKNhcmBrbF2"
      },
      "source": [
        ""
      ],
      "execution_count": null,
      "outputs": []
    }
  ]
}