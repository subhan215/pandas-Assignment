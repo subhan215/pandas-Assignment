{
  "nbformat": 4,
  "nbformat_minor": 0,
  "metadata": {
    "colab": {
      "name": "script.py",
      "provenance": [],
      "collapsed_sections": [],
      "authorship_tag": "ABX9TyMAXfL8Lk6HH0dlvAsXlnIB",
      "include_colab_link": true
    },
    "kernelspec": {
      "name": "python3",
      "display_name": "Python 3"
    },
    "language_info": {
      "name": "python"
    }
  },
  "cells": [
    {
      "cell_type": "markdown",
      "metadata": {
        "id": "view-in-github",
        "colab_type": "text"
      },
      "source": [
        "<a href=\"https://colab.research.google.com/github/subhan215/pandas-Assignment/blob/main/script_py.ipynb\" target=\"_parent\"><img src=\"https://colab.research.google.com/assets/colab-badge.svg\" alt=\"Open In Colab\"/></a>"
      ]
    },
    {
      "cell_type": "code",
      "metadata": {
        "id": "u5bp4QVyPh_4"
      },
      "source": [
        "import pandas as pd"
      ],
      "execution_count": null,
      "outputs": []
    },
    {
      "cell_type": "code",
      "metadata": {
        "id": "Sa0vYhUrXBug",
        "colab": {
          "base_uri": "https://localhost:8080/"
        },
        "outputId": "79b02565-ccbd-4250-e32a-24c5195692bb"
      },
      "source": [
        "from google.colab import drive\n",
        "drive.mount('./content')"
      ],
      "execution_count": 11,
      "outputs": [
        {
          "output_type": "stream",
          "text": [
            "Mounted at ./content\n"
          ],
          "name": "stdout"
        }
      ]
    },
    {
      "cell_type": "code",
      "metadata": {
        "id": "PLoe1dyHPo8H"
      },
      "source": [
        "import os\n",
        "\n",
        "os.chdir('./content/MyDrive/Assignment')\n",
        "inventory = pd.read_csv('inventory.csv')"
      ],
      "execution_count": 13,
      "outputs": []
    },
    {
      "cell_type": "code",
      "metadata": {
        "id": "JvkfgZsUW7X3",
        "colab": {
          "base_uri": "https://localhost:8080/"
        },
        "outputId": "56ea6d99-b2c3-46a2-c418-de31c00a6429"
      },
      "source": [
        "print(inventory.head(10))"
      ],
      "execution_count": 14,
      "outputs": [
        {
          "output_type": "stream",
          "text": [
            "        location  product_type         product_description  quantity  price\n",
            "0  Staten Island         seeds                       daisy         4   6.99\n",
            "1  Staten Island         seeds                  calla lily        46  19.99\n",
            "2  Staten Island         seeds                      tomato        85  13.99\n",
            "3  Staten Island  garden tools                        rake         4  13.99\n",
            "4  Staten Island  garden tools                 wheelbarrow         0  89.99\n",
            "5  Staten Island  garden tools                       spade        93  19.99\n",
            "6  Staten Island  pest_control               insect killer        74  12.99\n",
            "7  Staten Island  pest_control                 weed killer         8  23.99\n",
            "8  Staten Island       planter  20 inch terracotta planter         0  17.99\n",
            "9  Staten Island       planter      8 inch plastic planter        53   3.99\n"
          ],
          "name": "stdout"
        }
      ]
    },
    {
      "cell_type": "code",
      "metadata": {
        "id": "wzV1UUsGYPJM"
      },
      "source": [
        "staten_island = inventory.head(10)\n",
        "product_request = staten_island.product_description"
      ],
      "execution_count": 15,
      "outputs": []
    },
    {
      "cell_type": "code",
      "metadata": {
        "id": "rN4HcTGlYu17"
      },
      "source": [
        "seed_request = inventory[(inventory.location == 'Brooklyn') & (inventory.product_type == 'seeds')]  "
      ],
      "execution_count": 17,
      "outputs": []
    },
    {
      "cell_type": "code",
      "metadata": {
        "id": "MEyc70MUZBZ2"
      },
      "source": [
        "inventory['in stock'] = inventory.apply(lambda row: True if row.quantity > 0 else False, axis = 1)"
      ],
      "execution_count": 18,
      "outputs": []
    },
    {
      "cell_type": "code",
      "metadata": {
        "colab": {
          "base_uri": "https://localhost:8080/"
        },
        "id": "bxNP_0rAatI8",
        "outputId": "a0764cf6-9cfa-4ad0-e5b4-d7d7666b97fb"
      },
      "source": [
        "print(inventory.head(10))"
      ],
      "execution_count": 19,
      "outputs": [
        {
          "output_type": "stream",
          "text": [
            "        location  product_type  ...  price  in stock\n",
            "0  Staten Island         seeds  ...   6.99      True\n",
            "1  Staten Island         seeds  ...  19.99      True\n",
            "2  Staten Island         seeds  ...  13.99      True\n",
            "3  Staten Island  garden tools  ...  13.99      True\n",
            "4  Staten Island  garden tools  ...  89.99     False\n",
            "5  Staten Island  garden tools  ...  19.99      True\n",
            "6  Staten Island  pest_control  ...  12.99      True\n",
            "7  Staten Island  pest_control  ...  23.99      True\n",
            "8  Staten Island       planter  ...  17.99     False\n",
            "9  Staten Island       planter  ...   3.99      True\n",
            "\n",
            "[10 rows x 6 columns]\n"
          ],
          "name": "stdout"
        }
      ]
    },
    {
      "cell_type": "code",
      "metadata": {
        "id": "VdKBpBeMa3Lt"
      },
      "source": [
        "inventory['total_value'] = inventory.price * inventory.quantity"
      ],
      "execution_count": 20,
      "outputs": []
    },
    {
      "cell_type": "code",
      "metadata": {
        "colab": {
          "base_uri": "https://localhost:8080/"
        },
        "id": "sKaYjPh-btf-",
        "outputId": "728c8752-e65a-4ccd-9fe9-aea2e7097c02"
      },
      "source": [
        "inventory.total_value"
      ],
      "execution_count": 21,
      "outputs": [
        {
          "output_type": "execute_result",
          "data": {
            "text/plain": [
              "0       27.96\n",
              "1      919.54\n",
              "2     1189.15\n",
              "3       55.96\n",
              "4        0.00\n",
              "5     1859.07\n",
              "6      961.26\n",
              "7      191.92\n",
              "8        0.00\n",
              "9      211.47\n",
              "10     349.50\n",
              "11       0.00\n",
              "12       0.00\n",
              "13     209.85\n",
              "14    7379.18\n",
              "15     719.64\n",
              "16    1039.20\n",
              "17    1823.24\n",
              "18      89.95\n",
              "19     103.74\n",
              "20     398.43\n",
              "21    1899.05\n",
              "22     629.55\n",
              "23     293.79\n",
              "24    8819.02\n",
              "25     519.74\n",
              "26       0.00\n",
              "27     383.84\n",
              "28    1565.13\n",
              "Name: total_value, dtype: float64"
            ]
          },
          "metadata": {
            "tags": []
          },
          "execution_count": 21
        }
      ]
    },
    {
      "cell_type": "code",
      "metadata": {
        "id": "FshRVw62b4pN"
      },
      "source": [
        "combine_lambda = lambda row: \\\n",
        "    '{} - {}'.format(row.product_type,\n",
        "                     row.product_description)\n",
        "\n",
        "\n"
      ],
      "execution_count": 22,
      "outputs": []
    },
    {
      "cell_type": "code",
      "metadata": {
        "id": "J_2Ako-ydtuu"
      },
      "source": [
        "inventory['full_description'] = inventory.apply(combine_lambda, axis = 1)"
      ],
      "execution_count": 23,
      "outputs": []
    },
    {
      "cell_type": "code",
      "metadata": {
        "colab": {
          "base_uri": "https://localhost:8080/",
          "height": 1000
        },
        "id": "Uyw9kWs1elye",
        "outputId": "031a6176-dd15-45b5-aad7-344f81dcbd70"
      },
      "source": [
        "inventory"
      ],
      "execution_count": 24,
      "outputs": [
        {
          "output_type": "execute_result",
          "data": {
            "text/html": [
              "<div>\n",
              "<style scoped>\n",
              "    .dataframe tbody tr th:only-of-type {\n",
              "        vertical-align: middle;\n",
              "    }\n",
              "\n",
              "    .dataframe tbody tr th {\n",
              "        vertical-align: top;\n",
              "    }\n",
              "\n",
              "    .dataframe thead th {\n",
              "        text-align: right;\n",
              "    }\n",
              "</style>\n",
              "<table border=\"1\" class=\"dataframe\">\n",
              "  <thead>\n",
              "    <tr style=\"text-align: right;\">\n",
              "      <th></th>\n",
              "      <th>location</th>\n",
              "      <th>product_type</th>\n",
              "      <th>product_description</th>\n",
              "      <th>quantity</th>\n",
              "      <th>price</th>\n",
              "      <th>in stock</th>\n",
              "      <th>total_value</th>\n",
              "      <th>full_description</th>\n",
              "    </tr>\n",
              "  </thead>\n",
              "  <tbody>\n",
              "    <tr>\n",
              "      <th>0</th>\n",
              "      <td>Staten Island</td>\n",
              "      <td>seeds</td>\n",
              "      <td>daisy</td>\n",
              "      <td>4</td>\n",
              "      <td>6.99</td>\n",
              "      <td>True</td>\n",
              "      <td>27.96</td>\n",
              "      <td>seeds - daisy</td>\n",
              "    </tr>\n",
              "    <tr>\n",
              "      <th>1</th>\n",
              "      <td>Staten Island</td>\n",
              "      <td>seeds</td>\n",
              "      <td>calla lily</td>\n",
              "      <td>46</td>\n",
              "      <td>19.99</td>\n",
              "      <td>True</td>\n",
              "      <td>919.54</td>\n",
              "      <td>seeds - calla lily</td>\n",
              "    </tr>\n",
              "    <tr>\n",
              "      <th>2</th>\n",
              "      <td>Staten Island</td>\n",
              "      <td>seeds</td>\n",
              "      <td>tomato</td>\n",
              "      <td>85</td>\n",
              "      <td>13.99</td>\n",
              "      <td>True</td>\n",
              "      <td>1189.15</td>\n",
              "      <td>seeds - tomato</td>\n",
              "    </tr>\n",
              "    <tr>\n",
              "      <th>3</th>\n",
              "      <td>Staten Island</td>\n",
              "      <td>garden tools</td>\n",
              "      <td>rake</td>\n",
              "      <td>4</td>\n",
              "      <td>13.99</td>\n",
              "      <td>True</td>\n",
              "      <td>55.96</td>\n",
              "      <td>garden tools - rake</td>\n",
              "    </tr>\n",
              "    <tr>\n",
              "      <th>4</th>\n",
              "      <td>Staten Island</td>\n",
              "      <td>garden tools</td>\n",
              "      <td>wheelbarrow</td>\n",
              "      <td>0</td>\n",
              "      <td>89.99</td>\n",
              "      <td>False</td>\n",
              "      <td>0.00</td>\n",
              "      <td>garden tools - wheelbarrow</td>\n",
              "    </tr>\n",
              "    <tr>\n",
              "      <th>5</th>\n",
              "      <td>Staten Island</td>\n",
              "      <td>garden tools</td>\n",
              "      <td>spade</td>\n",
              "      <td>93</td>\n",
              "      <td>19.99</td>\n",
              "      <td>True</td>\n",
              "      <td>1859.07</td>\n",
              "      <td>garden tools - spade</td>\n",
              "    </tr>\n",
              "    <tr>\n",
              "      <th>6</th>\n",
              "      <td>Staten Island</td>\n",
              "      <td>pest_control</td>\n",
              "      <td>insect killer</td>\n",
              "      <td>74</td>\n",
              "      <td>12.99</td>\n",
              "      <td>True</td>\n",
              "      <td>961.26</td>\n",
              "      <td>pest_control - insect killer</td>\n",
              "    </tr>\n",
              "    <tr>\n",
              "      <th>7</th>\n",
              "      <td>Staten Island</td>\n",
              "      <td>pest_control</td>\n",
              "      <td>weed killer</td>\n",
              "      <td>8</td>\n",
              "      <td>23.99</td>\n",
              "      <td>True</td>\n",
              "      <td>191.92</td>\n",
              "      <td>pest_control - weed killer</td>\n",
              "    </tr>\n",
              "    <tr>\n",
              "      <th>8</th>\n",
              "      <td>Staten Island</td>\n",
              "      <td>planter</td>\n",
              "      <td>20 inch terracotta planter</td>\n",
              "      <td>0</td>\n",
              "      <td>17.99</td>\n",
              "      <td>False</td>\n",
              "      <td>0.00</td>\n",
              "      <td>planter - 20 inch terracotta planter</td>\n",
              "    </tr>\n",
              "    <tr>\n",
              "      <th>9</th>\n",
              "      <td>Staten Island</td>\n",
              "      <td>planter</td>\n",
              "      <td>8 inch plastic planter</td>\n",
              "      <td>53</td>\n",
              "      <td>3.99</td>\n",
              "      <td>True</td>\n",
              "      <td>211.47</td>\n",
              "      <td>planter - 8 inch plastic planter</td>\n",
              "    </tr>\n",
              "    <tr>\n",
              "      <th>10</th>\n",
              "      <td>Brooklyn</td>\n",
              "      <td>seeds</td>\n",
              "      <td>daisy</td>\n",
              "      <td>50</td>\n",
              "      <td>6.99</td>\n",
              "      <td>True</td>\n",
              "      <td>349.50</td>\n",
              "      <td>seeds - daisy</td>\n",
              "    </tr>\n",
              "    <tr>\n",
              "      <th>11</th>\n",
              "      <td>Brooklyn</td>\n",
              "      <td>seeds</td>\n",
              "      <td>calla lily</td>\n",
              "      <td>0</td>\n",
              "      <td>19.99</td>\n",
              "      <td>False</td>\n",
              "      <td>0.00</td>\n",
              "      <td>seeds - calla lily</td>\n",
              "    </tr>\n",
              "    <tr>\n",
              "      <th>12</th>\n",
              "      <td>Brooklyn</td>\n",
              "      <td>seeds</td>\n",
              "      <td>tomato</td>\n",
              "      <td>0</td>\n",
              "      <td>13.99</td>\n",
              "      <td>False</td>\n",
              "      <td>0.00</td>\n",
              "      <td>seeds - tomato</td>\n",
              "    </tr>\n",
              "    <tr>\n",
              "      <th>13</th>\n",
              "      <td>Brooklyn</td>\n",
              "      <td>garden tools</td>\n",
              "      <td>rake</td>\n",
              "      <td>15</td>\n",
              "      <td>13.99</td>\n",
              "      <td>True</td>\n",
              "      <td>209.85</td>\n",
              "      <td>garden tools - rake</td>\n",
              "    </tr>\n",
              "    <tr>\n",
              "      <th>14</th>\n",
              "      <td>Brooklyn</td>\n",
              "      <td>garden tools</td>\n",
              "      <td>wheelbarrow</td>\n",
              "      <td>82</td>\n",
              "      <td>89.99</td>\n",
              "      <td>True</td>\n",
              "      <td>7379.18</td>\n",
              "      <td>garden tools - wheelbarrow</td>\n",
              "    </tr>\n",
              "    <tr>\n",
              "      <th>15</th>\n",
              "      <td>Brooklyn</td>\n",
              "      <td>garden tools</td>\n",
              "      <td>spade</td>\n",
              "      <td>36</td>\n",
              "      <td>19.99</td>\n",
              "      <td>True</td>\n",
              "      <td>719.64</td>\n",
              "      <td>garden tools - spade</td>\n",
              "    </tr>\n",
              "    <tr>\n",
              "      <th>16</th>\n",
              "      <td>Brooklyn</td>\n",
              "      <td>pest_control</td>\n",
              "      <td>insect killer</td>\n",
              "      <td>80</td>\n",
              "      <td>12.99</td>\n",
              "      <td>True</td>\n",
              "      <td>1039.20</td>\n",
              "      <td>pest_control - insect killer</td>\n",
              "    </tr>\n",
              "    <tr>\n",
              "      <th>17</th>\n",
              "      <td>Brooklyn</td>\n",
              "      <td>pest_control</td>\n",
              "      <td>weed killer</td>\n",
              "      <td>76</td>\n",
              "      <td>23.99</td>\n",
              "      <td>True</td>\n",
              "      <td>1823.24</td>\n",
              "      <td>pest_control - weed killer</td>\n",
              "    </tr>\n",
              "    <tr>\n",
              "      <th>18</th>\n",
              "      <td>Brooklyn</td>\n",
              "      <td>planter</td>\n",
              "      <td>20 inch terracotta planter</td>\n",
              "      <td>5</td>\n",
              "      <td>17.99</td>\n",
              "      <td>True</td>\n",
              "      <td>89.95</td>\n",
              "      <td>planter - 20 inch terracotta planter</td>\n",
              "    </tr>\n",
              "    <tr>\n",
              "      <th>19</th>\n",
              "      <td>Brooklyn</td>\n",
              "      <td>planter</td>\n",
              "      <td>8 inch plastic planter</td>\n",
              "      <td>26</td>\n",
              "      <td>3.99</td>\n",
              "      <td>True</td>\n",
              "      <td>103.74</td>\n",
              "      <td>planter - 8 inch plastic planter</td>\n",
              "    </tr>\n",
              "    <tr>\n",
              "      <th>20</th>\n",
              "      <td>Queens</td>\n",
              "      <td>seeds</td>\n",
              "      <td>daisy</td>\n",
              "      <td>57</td>\n",
              "      <td>6.99</td>\n",
              "      <td>True</td>\n",
              "      <td>398.43</td>\n",
              "      <td>seeds - daisy</td>\n",
              "    </tr>\n",
              "    <tr>\n",
              "      <th>21</th>\n",
              "      <td>Queens</td>\n",
              "      <td>seeds</td>\n",
              "      <td>calla lily</td>\n",
              "      <td>95</td>\n",
              "      <td>19.99</td>\n",
              "      <td>True</td>\n",
              "      <td>1899.05</td>\n",
              "      <td>seeds - calla lily</td>\n",
              "    </tr>\n",
              "    <tr>\n",
              "      <th>22</th>\n",
              "      <td>Queens</td>\n",
              "      <td>seeds</td>\n",
              "      <td>tomato</td>\n",
              "      <td>45</td>\n",
              "      <td>13.99</td>\n",
              "      <td>True</td>\n",
              "      <td>629.55</td>\n",
              "      <td>seeds - tomato</td>\n",
              "    </tr>\n",
              "    <tr>\n",
              "      <th>23</th>\n",
              "      <td>Queens</td>\n",
              "      <td>garden tools</td>\n",
              "      <td>rake</td>\n",
              "      <td>21</td>\n",
              "      <td>13.99</td>\n",
              "      <td>True</td>\n",
              "      <td>293.79</td>\n",
              "      <td>garden tools - rake</td>\n",
              "    </tr>\n",
              "    <tr>\n",
              "      <th>24</th>\n",
              "      <td>Queens</td>\n",
              "      <td>garden tools</td>\n",
              "      <td>wheelbarrow</td>\n",
              "      <td>98</td>\n",
              "      <td>89.99</td>\n",
              "      <td>True</td>\n",
              "      <td>8819.02</td>\n",
              "      <td>garden tools - wheelbarrow</td>\n",
              "    </tr>\n",
              "    <tr>\n",
              "      <th>25</th>\n",
              "      <td>Queens</td>\n",
              "      <td>garden tools</td>\n",
              "      <td>spade</td>\n",
              "      <td>26</td>\n",
              "      <td>19.99</td>\n",
              "      <td>True</td>\n",
              "      <td>519.74</td>\n",
              "      <td>garden tools - spade</td>\n",
              "    </tr>\n",
              "    <tr>\n",
              "      <th>26</th>\n",
              "      <td>Queens</td>\n",
              "      <td>pest_control</td>\n",
              "      <td>insect killer</td>\n",
              "      <td>0</td>\n",
              "      <td>12.99</td>\n",
              "      <td>False</td>\n",
              "      <td>0.00</td>\n",
              "      <td>pest_control - insect killer</td>\n",
              "    </tr>\n",
              "    <tr>\n",
              "      <th>27</th>\n",
              "      <td>Queens</td>\n",
              "      <td>pest_control</td>\n",
              "      <td>weed killer</td>\n",
              "      <td>16</td>\n",
              "      <td>23.99</td>\n",
              "      <td>True</td>\n",
              "      <td>383.84</td>\n",
              "      <td>pest_control - weed killer</td>\n",
              "    </tr>\n",
              "    <tr>\n",
              "      <th>28</th>\n",
              "      <td>Queens</td>\n",
              "      <td>planter</td>\n",
              "      <td>20 inch terracotta planter</td>\n",
              "      <td>87</td>\n",
              "      <td>17.99</td>\n",
              "      <td>True</td>\n",
              "      <td>1565.13</td>\n",
              "      <td>planter - 20 inch terracotta planter</td>\n",
              "    </tr>\n",
              "  </tbody>\n",
              "</table>\n",
              "</div>"
            ],
            "text/plain": [
              "         location  ...                      full_description\n",
              "0   Staten Island  ...                         seeds - daisy\n",
              "1   Staten Island  ...                    seeds - calla lily\n",
              "2   Staten Island  ...                        seeds - tomato\n",
              "3   Staten Island  ...                   garden tools - rake\n",
              "4   Staten Island  ...            garden tools - wheelbarrow\n",
              "5   Staten Island  ...                  garden tools - spade\n",
              "6   Staten Island  ...          pest_control - insect killer\n",
              "7   Staten Island  ...            pest_control - weed killer\n",
              "8   Staten Island  ...  planter - 20 inch terracotta planter\n",
              "9   Staten Island  ...      planter - 8 inch plastic planter\n",
              "10       Brooklyn  ...                         seeds - daisy\n",
              "11       Brooklyn  ...                    seeds - calla lily\n",
              "12       Brooklyn  ...                        seeds - tomato\n",
              "13       Brooklyn  ...                   garden tools - rake\n",
              "14       Brooklyn  ...            garden tools - wheelbarrow\n",
              "15       Brooklyn  ...                  garden tools - spade\n",
              "16       Brooklyn  ...          pest_control - insect killer\n",
              "17       Brooklyn  ...            pest_control - weed killer\n",
              "18       Brooklyn  ...  planter - 20 inch terracotta planter\n",
              "19       Brooklyn  ...      planter - 8 inch plastic planter\n",
              "20         Queens  ...                         seeds - daisy\n",
              "21         Queens  ...                    seeds - calla lily\n",
              "22         Queens  ...                        seeds - tomato\n",
              "23         Queens  ...                   garden tools - rake\n",
              "24         Queens  ...            garden tools - wheelbarrow\n",
              "25         Queens  ...                  garden tools - spade\n",
              "26         Queens  ...          pest_control - insect killer\n",
              "27         Queens  ...            pest_control - weed killer\n",
              "28         Queens  ...  planter - 20 inch terracotta planter\n",
              "\n",
              "[29 rows x 8 columns]"
            ]
          },
          "metadata": {
            "tags": []
          },
          "execution_count": 24
        }
      ]
    },
    {
      "cell_type": "code",
      "metadata": {
        "id": "h4B7OKmsene9"
      },
      "source": [
        ""
      ],
      "execution_count": null,
      "outputs": []
    }
  ]
}